{
 "cells": [
  {
   "cell_type": "code",
   "execution_count": 3,
   "metadata": {},
   "outputs": [],
   "source": [
    "# Use cross valiation for better measurements of model prediction\n",
    "# So What the heck is cross validation?!\n",
    "\n",
    "# Cross Validation\n",
    "    # Gives a measurement on model validation or model quality\n",
    "    \n",
    "    # How It Works\n",
    "    # Run your model process on different subsets of the data to get multiple measures of model quality\n",
    "    # For Example\n",
    "        # 1 Dataset, split into 5 parts (or folds), containing 20% of the full dataset\n",
    "        # For each fold (1, 2, 3, 4, 5) you'll use the data from that fold as the validation dataset whereas the remaining data is used to train the model\n",
    "        # You'll eventually end up with the measurement of a model based on your entire dataset, even if it wasn't the whole dataset at once\n",
    "        \n",
    "# Cross Validation gives a more accurate measure of model quality than train-test-split. However, it takes longer to run\n",
    "\n",
    "# Let's run an example"
   ]
  },
  {
   "cell_type": "code",
   "execution_count": 9,
   "metadata": {},
   "outputs": [
    {
     "name": "stderr",
     "output_type": "stream",
     "text": [
      "/Users/matthewquinn/.local/share/virtualenvs/data-science-learning-e1DZx5Tr/lib/python3.7/site-packages/sklearn/utils/deprecation.py:58: DeprecationWarning: Class Imputer is deprecated; Imputer was deprecated in version 0.20 and will be removed in 0.22. Import impute.SimpleImputer from sklearn instead.\n",
      "  warnings.warn(msg, category=DeprecationWarning)\n"
     ]
    }
   ],
   "source": [
    "# Setup\n",
    "import pandas as pd\n",
    "from sklearn.ensemble import RandomForestRegressor\n",
    "from sklearn.pipeline import make_pipeline\n",
    "from sklearn.preprocessing import Imputer\n",
    "\n",
    "data = pd.read_csv('./datasets/melb_data.csv')\n",
    "columns_to_use = ['Rooms', 'Distance', 'Landsize', 'BuildingArea', 'YearBuilt']\n",
    "\n",
    "X = data[columns_to_use]\n",
    "y = data.Price\n",
    "\n",
    "my_pipeline = make_pipeline(Imputer(), RandomForestRegressor())"
   ]
  },
  {
   "cell_type": "code",
   "execution_count": null,
   "metadata": {},
   "outputs": [],
   "source": [
    "# Let's add cross validation\n",
    "from sklearn.model_selection import cross_val_score\n",
    "# \"scoring\" = how you want to measure your model\n",
    "# \"cv\" = how folded you want your dataset (default is 3)\n",
    "scores = cross_val_score(my_pipeline, X, y, scoring='neg_mean_absolute_error', cv=2)\n",
    "\n",
    "print(scores)"
   ]
  },
  {
   "cell_type": "code",
   "execution_count": null,
   "metadata": {},
   "outputs": [],
   "source": [
    "# Take the average of your scores to compare between models\n",
    "print('Mean Absolute Error %2f' %(-1 * scores.mean()))"
   ]
  },
  {
   "cell_type": "code",
   "execution_count": null,
   "metadata": {},
   "outputs": [],
   "source": []
  }
 ],
 "metadata": {
  "kernelspec": {
   "display_name": "Python 3",
   "language": "python",
   "name": "python3"
  },
  "language_info": {
   "codemirror_mode": {
    "name": "ipython",
    "version": 3
   },
   "file_extension": ".py",
   "mimetype": "text/x-python",
   "name": "python",
   "nbconvert_exporter": "python",
   "pygments_lexer": "ipython3",
   "version": "3.7.0"
  }
 },
 "nbformat": 4,
 "nbformat_minor": 2
}
