{
 "cells": [
  {
   "cell_type": "code",
   "execution_count": 1,
   "metadata": {},
   "outputs": [],
   "source": [
    "# Data Leakage\n",
    "    # Data leakage causes a model to look accurate, until its not\n",
    "    # There are 2 types of data leakages: Leaky Predictors & Leaky Validation\n",
    "    \n",
    "# Leaky Predictors\n",
    "    # Data that isn't available until you actually predict it\n",
    "    # For example:\n",
    "        # Getting sick vs taking antibiotics\n",
    "        # If you're trying to predict who got sick based on who took antibiotics\n",
    "        # then this can become skewed because folks who get sick, often take antibiotics to get better\n",
    "        # The problem here is that, you don't know if they took the antibiotics before or after getting sick\n",
    "        # Therefore, taking antibiotics changes after you get sick which indicates\n",
    "    # PREVENT\n",
    "        # To prevent this type of leakage, exclude any variable that gets updated or created\n",
    "        # Look at columns statistically correlated to the predictor\n",
    "        # If your model is overly accurate\n",
    "        \n",
    "# Leaky Validation\n",
    "    # Fitting imputer data prior to train_test_splitting\n",
    "    # This happens when you aren't careful on distinguishing training data from validation data\n",
    "\n",
    "    # PREVENT\n",
    "        # If your validation uses train_test_split, exclude validation data from fitting (easy when using pipelines)\n",
    "\n",
    "# Let's use an example"
   ]
  },
  {
   "cell_type": "code",
   "execution_count": 2,
   "metadata": {},
   "outputs": [
    {
     "name": "stdout",
     "output_type": "stream",
     "text": [
      "   card  reports       age  income     share  expenditure  owner  selfemp  \\\n",
      "0  True        0  37.66667  4.5200  0.033270   124.983300   True    False   \n",
      "1  True        0  33.25000  2.4200  0.005217     9.854167  False    False   \n",
      "2  True        0  33.66667  4.5000  0.004156    15.000000   True    False   \n",
      "3  True        0  30.50000  2.5400  0.065214   137.869200  False    False   \n",
      "4  True        0  32.16667  9.7867  0.067051   546.503300   True    False   \n",
      "\n",
      "   dependents  months  majorcards  active  \n",
      "0           3      54           1      12  \n",
      "1           3      34           1      13  \n",
      "2           4      58           1       5  \n",
      "3           0      25           1       7  \n",
      "4           2      64           1       5  \n"
     ]
    }
   ],
   "source": [
    "import pandas as pd\n",
    "\n",
    "data = pd.read_csv('./datasets/credit_data.csv',\n",
    "                  true_values = ['yes'],\n",
    "                  false_values = ['no'])\n",
    "print(data.head())"
   ]
  },
  {
   "cell_type": "code",
   "execution_count": 4,
   "metadata": {},
   "outputs": [
    {
     "data": {
      "text/plain": [
       "(1319, 12)"
      ]
     },
     "execution_count": 4,
     "metadata": {},
     "output_type": "execute_result"
    }
   ],
   "source": [
    "# Check the dynamis of the data\n",
    "\n",
    "data.shape\n",
    "\n",
    "# (rows, columns)"
   ]
  },
  {
   "cell_type": "code",
   "execution_count": 15,
   "metadata": {},
   "outputs": [
    {
     "name": "stdout",
     "output_type": "stream",
     "text": [
      "0.9810450748947331\n"
     ]
    },
    {
     "name": "stderr",
     "output_type": "stream",
     "text": [
      "/Users/matthewquinn/.local/share/virtualenvs/data-science-learning-e1DZx5Tr/lib/python3.7/site-packages/sklearn/model_selection/_split.py:1943: FutureWarning: You should specify a value for 'cv' instead of relying on the default value. The default value will change from 3 to 5 in version 0.22.\n",
      "  warnings.warn(CV_WARNING, FutureWarning)\n",
      "/Users/matthewquinn/.local/share/virtualenvs/data-science-learning-e1DZx5Tr/lib/python3.7/site-packages/sklearn/ensemble/forest.py:248: FutureWarning: The default value of n_estimators will change from 10 in version 0.20 to 100 in 0.22.\n",
      "  \"10 in version 0.20 to 100 in 0.22.\", FutureWarning)\n",
      "/Users/matthewquinn/.local/share/virtualenvs/data-science-learning-e1DZx5Tr/lib/python3.7/site-packages/sklearn/ensemble/forest.py:248: FutureWarning: The default value of n_estimators will change from 10 in version 0.20 to 100 in 0.22.\n",
      "  \"10 in version 0.20 to 100 in 0.22.\", FutureWarning)\n",
      "/Users/matthewquinn/.local/share/virtualenvs/data-science-learning-e1DZx5Tr/lib/python3.7/site-packages/sklearn/ensemble/forest.py:248: FutureWarning: The default value of n_estimators will change from 10 in version 0.20 to 100 in 0.22.\n",
      "  \"10 in version 0.20 to 100 in 0.22.\", FutureWarning)\n"
     ]
    }
   ],
   "source": [
    "# Let's setup a Pipeline and fit the data\n",
    "from sklearn.pipeline import make_pipeline\n",
    "from sklearn.ensemble import RandomForestClassifier\n",
    "from sklearn.model_selection import cross_val_score\n",
    "\n",
    "y = data.card\n",
    "# Use each column except our predictor(card)\n",
    "X = data.drop(['card'], axis=1)\n",
    "\n",
    "my_pipeline = make_pipeline(RandomForestClassifier())\n",
    "\n",
    "cross_validation_score = cross_val_score(my_pipeline, X, y, scoring='accuracy')\n",
    "\n",
    "print(cross_validation_score.mean())"
   ]
  },
  {
   "cell_type": "code",
   "execution_count": 22,
   "metadata": {},
   "outputs": [
    {
     "name": "stdout",
     "output_type": "stream",
     "text": [
      "0.020527859237536656\n",
      "1.0\n"
     ]
    }
   ],
   "source": [
    "# It's rare you'll find a model with 98% accuracy so let's inspect the data\n",
    "expenditures_cardholders = data.expenditure[data.card]\n",
    "expenditures_noncardholders = data.expenditure[~data.card]\n",
    "\n",
    "print((expenditures_cardholders == 0).mean())\n",
    "print((expenditures_noncardholders == 0).mean())"
   ]
  },
  {
   "cell_type": "code",
   "execution_count": 30,
   "metadata": {},
   "outputs": [
    {
     "name": "stdout",
     "output_type": "stream",
     "text": [
      "0.8021277697245806\n"
     ]
    },
    {
     "name": "stderr",
     "output_type": "stream",
     "text": [
      "/Users/matthewquinn/.local/share/virtualenvs/data-science-learning-e1DZx5Tr/lib/python3.7/site-packages/sklearn/model_selection/_split.py:1943: FutureWarning: You should specify a value for 'cv' instead of relying on the default value. The default value will change from 3 to 5 in version 0.22.\n",
      "  warnings.warn(CV_WARNING, FutureWarning)\n",
      "/Users/matthewquinn/.local/share/virtualenvs/data-science-learning-e1DZx5Tr/lib/python3.7/site-packages/sklearn/ensemble/forest.py:248: FutureWarning: The default value of n_estimators will change from 10 in version 0.20 to 100 in 0.22.\n",
      "  \"10 in version 0.20 to 100 in 0.22.\", FutureWarning)\n",
      "/Users/matthewquinn/.local/share/virtualenvs/data-science-learning-e1DZx5Tr/lib/python3.7/site-packages/sklearn/ensemble/forest.py:248: FutureWarning: The default value of n_estimators will change from 10 in version 0.20 to 100 in 0.22.\n",
      "  \"10 in version 0.20 to 100 in 0.22.\", FutureWarning)\n",
      "/Users/matthewquinn/.local/share/virtualenvs/data-science-learning-e1DZx5Tr/lib/python3.7/site-packages/sklearn/ensemble/forest.py:248: FutureWarning: The default value of n_estimators will change from 10 in version 0.20 to 100 in 0.22.\n",
      "  \"10 in version 0.20 to 100 in 0.22.\", FutureWarning)\n"
     ]
    }
   ],
   "source": [
    "# The above means that everyone with NO card had no expenditures while only 2% of those with a card had expenditures\n",
    "# This displays a dataleak so we drop any variables that contribute to a dataleak and run our validation again\n",
    "\n",
    "leaky_variables = ['expenditure', 'share', 'active', 'majorcards']\n",
    "X2 = X.drop(leaky_variables, axis=1)\n",
    "\n",
    "cross_validation_score = cross_val_score(my_pipeline, X2, y, scoring='accuracy')\n",
    "\n",
    "print(cross_validation_score.mean())"
   ]
  },
  {
   "cell_type": "code",
   "execution_count": null,
   "metadata": {},
   "outputs": [],
   "source": [
    "# This means, that we can expect our model to be right 80% of the time when used on new applicants\n",
    "# This is more realistic than the 97% which would've proved inaccurate due to the data leak"
   ]
  }
 ],
 "metadata": {
  "kernelspec": {
   "display_name": "Python 3",
   "language": "python",
   "name": "python3"
  },
  "language_info": {
   "codemirror_mode": {
    "name": "ipython",
    "version": 3
   },
   "file_extension": ".py",
   "mimetype": "text/x-python",
   "name": "python",
   "nbconvert_exporter": "python",
   "pygments_lexer": "ipython3",
   "version": "3.7.0"
  }
 },
 "nbformat": 4,
 "nbformat_minor": 2
}
